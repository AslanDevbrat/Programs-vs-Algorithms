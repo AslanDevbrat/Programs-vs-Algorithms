{
 "cells": [
  {
   "cell_type": "code",
   "execution_count": 18,
   "metadata": {},
   "outputs": [
    {
     "name": "stdout",
     "output_type": "stream",
     "text": [
      "left [1] right [2]\n",
      "[2, 1]\n",
      "left [4] right [5]\n",
      "[5, 4]\n",
      "left [3] right [5, 4]\n",
      "[5, 4, 3]\n",
      "left [2, 1] right [5, 4, 3]\n",
      "[5, 4, 3, 2, 1]\n",
      "[531, 42]\n",
      "Pass\n"
     ]
    }
   ],
   "source": [
    "def rearrange_digits(input_list):\n",
    "    \"\"\"\n",
    "    Rearrange Array Elements so as to form two number such that their sum is maximum.\n",
    "\n",
    "    Args:\n",
    "       input_list(list): Input List\n",
    "    Returns:\n",
    "       (int),(int): Two maximum sums\n",
    "    \"\"\"\n",
    "    \n",
    "    # We are going to use mergeSort to sort the input_list\n",
    "    # in decending order\n",
    "    sorted_arr= mergeSort(input_list)\n",
    "    \n",
    "    ##Once we got the sorted arr then just traverse the arr\n",
    "    # and put number in the result[0] and result[1] alternatively\n",
    "    result = [0,0]\n",
    "    is_right = False\n",
    "    for ele in sorted_arr:\n",
    "        ele = str(ele)\n",
    "        if is_right:\n",
    "            result[1] = int(str(result[1]) + ele)\n",
    "            is_right = False\n",
    "        else:\n",
    "            result[0] = int(str(result[0]) + ele)\n",
    "            is_right = True\n",
    "    #print(result)\n",
    "    return result\n",
    "\n",
    "\n",
    "def mergeSort(items):\n",
    "    \n",
    "    if len(items)<=1:\n",
    "        return items\n",
    "    \n",
    "    mid = len(items)//2\n",
    "    left = items[:mid]\n",
    "    right = items[mid:]\n",
    "    \n",
    "    left = mergeSort(left)\n",
    "    right = mergeSort(right)\n",
    "    print('left',left,'right',right)\n",
    "    temp = merge(left,right)\n",
    "    #print(temp)\n",
    "    return temp\n",
    "\n",
    "def merge(left,right):\n",
    "    merged = []\n",
    "    left_index=0\n",
    "    right_index = 0\n",
    "        \n",
    "    while left_index<len(left) and right_index<len(right):\n",
    "        if left[left_index] >right[right_index]:\n",
    "            merged.append(left[left_index])\n",
    "            left_index+=1\n",
    "        else:\n",
    "            merged.append(right[right_index])\n",
    "            right_index+=1\n",
    "    merged+=left[left_index:]\n",
    "    merged+=right[right_index:]\n",
    "    return merged\n",
    "        \n",
    "\n",
    "def test_function(test_case):\n",
    "    output = rearrange_digits(test_case[0])\n",
    "    solution = test_case[1]\n",
    "    if sum(output) == sum(solution):\n",
    "        print(\"Pass\")\n",
    "    else:\n",
    "        print(\"Fail\")\n",
    "\n",
    "test_function([[1, 2, 3, 4, 5], [531, 42]])\n",
    "test_case = [[4, 6, 2, 5, 9, 8], [964, 852]]\n"
   ]
  },
  {
   "cell_type": "code",
   "execution_count": 16,
   "metadata": {},
   "outputs": [
    {
     "name": "stdout",
     "output_type": "stream",
     "text": [
      "left [6] right [2]\n",
      "[6, 2]\n",
      "left [4] right [6, 2]\n",
      "[6, 4, 2]\n",
      "left [9] right [8]\n",
      "[9, 8]\n",
      "left [5] right [9, 8]\n",
      "[9, 8, 5]\n",
      "left [6, 4, 2] right [9, 8, 5]\n",
      "[9, 8, 6, 5, 4, 2]\n",
      "[964, 852]\n",
      "Pass\n"
     ]
    }
   ],
   "source": [
    "test_function(test_case)"
   ]
  },
  {
   "cell_type": "code",
   "execution_count": null,
   "metadata": {},
   "outputs": [],
   "source": []
  }
 ],
 "metadata": {
  "kernelspec": {
   "display_name": "Python 3",
   "language": "python",
   "name": "python3"
  },
  "language_info": {
   "codemirror_mode": {
    "name": "ipython",
    "version": 3
   },
   "file_extension": ".py",
   "mimetype": "text/x-python",
   "name": "python",
   "nbconvert_exporter": "python",
   "pygments_lexer": "ipython3",
   "version": "3.7.4"
  }
 },
 "nbformat": 4,
 "nbformat_minor": 2
}
