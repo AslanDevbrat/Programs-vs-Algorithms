{
 "cells": [
  {
   "cell_type": "code",
   "execution_count": 1,
   "metadata": {},
   "outputs": [
    {
     "name": "stdout",
     "output_type": "stream",
     "text": [
      "[0, 0, 0, 1, 1, 1, 2, 2, 2, 2, 2]\n",
      "Pass\n",
      "[0, 0, 0, 0, 0, 0, 0, 0, 0, 0, 0, 1, 1, 1, 1, 1, 1, 2, 2, 2, 2, 2, 2, 2, 2, 2]\n",
      "Pass\n",
      "[0, 0, 0, 0, 0, 0, 1, 1, 1, 1, 1, 1, 2, 2, 2, 2, 2, 2, 2]\n",
      "Pass\n",
      "Edge Cases:\n",
      "[0, 0, 1, 1, 1]\n",
      "Pass\n",
      "[0, 0, 0]\n",
      "Pass\n",
      "[]\n",
      "Pass\n"
     ]
    }
   ],
   "source": [
    "def sort_012(arr):\n",
    "    \"\"\"\n",
    "    Given an input array consisting on only 0, 1, and 2, sort the array in a single traversal.\n",
    "\n",
    "    Args:\n",
    "       input_list(list): List to be sorted\n",
    "    \"\"\"\n",
    "    index_of_0 = 0\n",
    "    index_of_2 = len(arr)-1\n",
    "    \n",
    "    i = 0\n",
    "    while i<=index_of_2:\n",
    "        if arr[i] == 0:\n",
    "            arr[index_of_0] ,arr[i]= 0,arr[index_of_0]\n",
    "            index_of_0+=1\n",
    "            i+=1\n",
    "        elif arr[i] == 2:\n",
    "            arr[index_of_2],arr[i] =2, arr[index_of_2]\n",
    "            index_of_2-=1\n",
    "        else:\n",
    "            i+=1\n",
    "    return arr\n",
    "\n",
    "\n",
    "def test_function(test_case):\n",
    "    sorted_array = sort_012(test_case)\n",
    "    print(sorted_array)\n",
    "    if sorted_array == sorted(test_case):\n",
    "        print(\"Pass\")\n",
    "    else:\n",
    "        print(\"Fail\")\n",
    "\n",
    "test_function([0, 0, 2, 2, 2, 1, 1, 1, 2, 0, 2])\n",
    "test_function([2, 1, 2, 0, 0, 2, 1, 0, 1, 0, 0, 2, 2, 2, 1, 2, 0, 0, 0, 2, 1, 0, 2, 0, 0, 1])\n",
    "test_function([0, 0, 0, 0, 0, 0, 1, 1, 1, 1, 1, 1, 2, 2, 2, 2, 2, 2, 2])\n",
    "\n",
    "# Edge cases\n",
    "print('Edge Cases:')\n",
    "test_function([0, 1, 1, 0, 1])\n",
    "test_function([0, 0, 0])\n",
    "test_function([])"
   ]
  },
  {
   "cell_type": "code",
   "execution_count": null,
   "metadata": {},
   "outputs": [],
   "source": []
  }
 ],
 "metadata": {
  "kernelspec": {
   "display_name": "Python 3",
   "language": "python",
   "name": "python3"
  },
  "language_info": {
   "codemirror_mode": {
    "name": "ipython",
    "version": 3
   },
   "file_extension": ".py",
   "mimetype": "text/x-python",
   "name": "python",
   "nbconvert_exporter": "python",
   "pygments_lexer": "ipython3",
   "version": "3.7.4"
  }
 },
 "nbformat": 4,
 "nbformat_minor": 2
}
