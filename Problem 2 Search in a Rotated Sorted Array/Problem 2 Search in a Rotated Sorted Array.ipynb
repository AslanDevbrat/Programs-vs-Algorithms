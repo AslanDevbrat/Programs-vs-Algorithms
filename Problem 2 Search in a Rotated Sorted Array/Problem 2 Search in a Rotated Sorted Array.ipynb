{
 "cells": [
  {
   "cell_type": "code",
   "execution_count": 38,
   "metadata": {},
   "outputs": [
    {
     "name": "stdout",
     "output_type": "stream",
     "text": [
      "Pass\n",
      "Pass\n",
      "Pass\n",
      "Pass\n",
      "Pass\n"
     ]
    }
   ],
   "source": [
    "def rotated_array_search(input_list, number):\n",
    "    \"\"\"\n",
    "    Find the index by searching in a rotated sorted array\n",
    "\n",
    "    Args:\n",
    "       input_list(array), number(int): Input array to search and the target\n",
    "    Returns:\n",
    "       int: Index or -1\n",
    "    \"\"\"\n",
    "    temp = search_using_recurrsion(input_list,number,0,len(input_list)-1)\n",
    "    #print('temp',temp)\n",
    "    return temp\n",
    "\n",
    "def search_using_recurrsion(arr,target,start,end):\n",
    "    mid = (start+end)//2\n",
    "    \n",
    "    #base case:\n",
    "    #print('mid',mid)\n",
    "    if start>end:\n",
    "        return -1\n",
    "    \n",
    "    #if the target at middle element\n",
    "    if arr[mid] == target:\n",
    "        return mid\n",
    "    \n",
    "    \n",
    "    # that means arr[start:mid ] is sorted\n",
    "    if arr[start]<=arr[mid] : \n",
    "        \n",
    "        # if target lies between arr[start:mid]\n",
    "        if arr[start]<=target<arr[mid]:      \n",
    "            return search_using_recurrsion(arr,target,start,mid-1)\n",
    "        return search_using_recurrsion(arr,target,mid+1,end)\n",
    "    \n",
    "    \n",
    "    # that means arr[start:mid ] is not sorted\n",
    "    elif arr[start]>arr[mid]:    \n",
    "        if  arr[mid]>target>=arr[end]:\n",
    "            return search_using_recurrsion(arr,target,mid+1,end)\n",
    "        return search_using_recurrsion(arr,target,start,mid-1)\n",
    "    \n",
    "    \n",
    "def linear_search(input_list, number):\n",
    "    for index, element in enumerate(input_list):\n",
    "        if element == number:\n",
    "            return index\n",
    "    return -1\n",
    "\n",
    "def test_function(test_case):\n",
    "    input_list = test_case[0]\n",
    "    number = test_case[1]\n",
    "    #print(linear_search(input_list, number))\n",
    "    if linear_search(input_list, number) == rotated_array_search(input_list, number):\n",
    "        \n",
    "        print(\"Pass\")\n",
    "    else:\n",
    "        print(\"Fail\")\n",
    "\n",
    "test_function([[6, 7, 8, 9, 10, 1, 2, 3, 4], 6])\n",
    "test_function([[6, 7, 8, 9, 10, 1, 2, 3, 4], 1])\n",
    "test_function([[6, 7, 8, 1, 2, 3, 4], 8])\n",
    "test_function([[6, 7, 8, 1, 2, 3, 4], 1])\n",
    "test_function([[6, 7, 8, 1, 2, 3, 4], 10])"
   ]
  },
  {
   "cell_type": "code",
   "execution_count": 21,
   "metadata": {},
   "outputs": [
    {
     "data": {
      "text/plain": [
       "1"
      ]
     },
     "execution_count": 21,
     "metadata": {},
     "output_type": "execute_result"
    }
   ],
   "source": [
    "fastSelect([6, 7, 8, 1, 2, 3, 4],1)"
   ]
  },
  {
   "cell_type": "code",
   "execution_count": null,
   "metadata": {},
   "outputs": [],
   "source": []
  }
 ],
 "metadata": {
  "kernelspec": {
   "display_name": "Python 3",
   "language": "python",
   "name": "python3"
  },
  "language_info": {
   "codemirror_mode": {
    "name": "ipython",
    "version": 3
   },
   "file_extension": ".py",
   "mimetype": "text/x-python",
   "name": "python",
   "nbconvert_exporter": "python",
   "pygments_lexer": "ipython3",
   "version": "3.7.4"
  }
 },
 "nbformat": 4,
 "nbformat_minor": 2
}
