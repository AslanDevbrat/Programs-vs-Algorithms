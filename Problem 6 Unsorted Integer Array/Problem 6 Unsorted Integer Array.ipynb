{
 "cells": [
  {
   "cell_type": "code",
   "execution_count": 3,
   "metadata": {},
   "outputs": [
    {
     "name": "stdout",
     "output_type": "stream",
     "text": [
      "Pass\n",
      "Pass\n",
      "Pass\n",
      "Pass\n"
     ]
    }
   ],
   "source": [
    "def get_min_max(ints):\n",
    "    \"\"\"\n",
    "    Return a tuple(min, max) out of list of unsorted integers.\n",
    "\n",
    "    Args:\n",
    "       ints(list): list of integers containing one or more integers\n",
    "    \"\"\"\n",
    "    max = -float('inf')\n",
    "    min = float('inf')\n",
    "    for index,num in enumerate(ints):\n",
    "        if ints[index]>max:\n",
    "            max = ints[index]\n",
    "        if  ints[index]<min:\n",
    "            min = ints[index]\n",
    "    \n",
    "    return(min,max)\n",
    "\n",
    "## Example Test Case of Ten Integers\n",
    "import random\n",
    "\n",
    "l = [i for i in range(0, 123)]  # a list containing 0 - 9\n",
    "random.shuffle(l)\n",
    "#print(l)\n",
    "print (\"Pass\" if ((min(l),max(l)) == get_min_max(l)) else \"Fail\")\n",
    "\n",
    "l = [i for i in range(0, 1)]  # a list containing 0 - 9\n",
    "random.shuffle(l)\n",
    "#print(l)\n",
    "print (\"Pass\" if ((min(l),max(l)) == get_min_max(l)) else \"Fail\")\n",
    "\n",
    "l = [i for i in range(0, 999)]  # a list containing 0 - 9\n",
    "random.shuffle(l)\n",
    "#print(l)\n",
    "print (\"Pass\" if ((min(l),max(l)) == get_min_max(l)) else \"Fail\")\n",
    "\n",
    "l = [i for i in range(0, 9)]  # a list containing 0 - 9\n",
    "random.shuffle(l)\n",
    "#print(l)\n",
    "print (\"Pass\" if ((min(l),max(l)) == get_min_max(l)) else \"Fail\")"
   ]
  },
  {
   "cell_type": "code",
   "execution_count": null,
   "metadata": {},
   "outputs": [],
   "source": []
  },
  {
   "cell_type": "code",
   "execution_count": null,
   "metadata": {},
   "outputs": [],
   "source": []
  }
 ],
 "metadata": {
  "kernelspec": {
   "display_name": "Python 3",
   "language": "python",
   "name": "python3"
  },
  "language_info": {
   "codemirror_mode": {
    "name": "ipython",
    "version": 3
   },
   "file_extension": ".py",
   "mimetype": "text/x-python",
   "name": "python",
   "nbconvert_exporter": "python",
   "pygments_lexer": "ipython3",
   "version": "3.7.4"
  }
 },
 "nbformat": 4,
 "nbformat_minor": 2
}
